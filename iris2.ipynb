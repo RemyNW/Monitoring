{
 "cells": [
  {
   "cell_type": "code",
   "execution_count": 25,
   "metadata": {},
   "outputs": [
    {
     "name": "stderr",
     "output_type": "stream",
     "text": [
      "WARNING:root:Malformed experiment 'mlruns'. Detailed error Yaml file '/root/code/mlflow/mlruns/meta.yaml' does not exist.\n",
      "Traceback (most recent call last):\n",
      "  File \"/root/.pyenv/versions/3.8.12/envs/simplon/lib/python3.8/site-packages/mlflow/store/tracking/file_store.py\", line 285, in search_experiments\n",
      "    exp = self._get_experiment(exp_id, view_type)\n",
      "  File \"/root/.pyenv/versions/3.8.12/envs/simplon/lib/python3.8/site-packages/mlflow/store/tracking/file_store.py\", line 378, in _get_experiment\n",
      "    meta = FileStore._read_yaml(experiment_dir, FileStore.META_DATA_FILE_NAME)\n",
      "  File \"/root/.pyenv/versions/3.8.12/envs/simplon/lib/python3.8/site-packages/mlflow/store/tracking/file_store.py\", line 1082, in _read_yaml\n",
      "    return _read_helper(root, file_name, attempts_remaining=retries)\n",
      "  File \"/root/.pyenv/versions/3.8.12/envs/simplon/lib/python3.8/site-packages/mlflow/store/tracking/file_store.py\", line 1075, in _read_helper\n",
      "    result = read_yaml(root, file_name)\n",
      "  File \"/root/.pyenv/versions/3.8.12/envs/simplon/lib/python3.8/site-packages/mlflow/utils/file_utils.py\", line 213, in read_yaml\n",
      "    raise MissingConfigException(\"Yaml file '%s' does not exist.\" % file_path)\n",
      "mlflow.exceptions.MissingConfigException: Yaml file '/root/code/mlflow/mlruns/meta.yaml' does not exist.\n"
     ]
    }
   ],
   "source": [
    "import mlflow\n",
    "import mlflow.sklearn\n",
    "from sklearn.ensemble import RandomForestClassifier\n",
    "from sklearn.metrics import accuracy_score, f1_score, precision_score, recall_score\n",
    "from sklearn.datasets import load_iris\n",
    "from sklearn.model_selection import train_test_split\n",
    "import os\n",
    "import random\n",
    "\n",
    "# Load Iris dataset\n",
    "iris = load_iris()\n",
    "X = iris.data\n",
    "y = iris.target\n",
    "\n",
    "# Split the dataset\n",
    "X_train, X_test, y_train, y_test = train_test_split(X, y, test_size=0.3, random_state=42)\n",
    "\n",
    "# Set parameters\n",
    "n_estimators = random.randint(1, 300)\n",
    "max_depth = random.randint(1, 30)\n",
    "\n",
    "# Enable autolog\n",
    "\n",
    "os.environ['MLFLOW_TRACKING_URI'] = '/root/code/mlflow'\n",
    "mlflow.set_experiment(\"RandomForest\")\n",
    "\n",
    "with mlflow.start_run():\n",
    "    \n",
    "\n",
    "    # Create and train model\n",
    "    rf = RandomForestClassifier(n_estimators=n_estimators, max_depth=max_depth)\n",
    "    rf.fit(X_train, y_train)\n",
    "\n",
    "    # Generate predictions\n",
    "    predictions = rf.predict(X_test)\n",
    "\n",
    "    # Compute metrics\n",
    "    accuracy = accuracy_score(y_test, predictions)\n",
    "    precision = precision_score(y_test, predictions, average=\"macro\")\n",
    "    recall = recall_score(y_test, predictions, average=\"macro\")\n",
    "    f1 = f1_score(y_test, predictions, average=\"macro\")\n",
    "\n",
    "    # Log metrics\n",
    "    mlflow.log_metric(\"accuracy\", accuracy)\n",
    "    mlflow.log_metric(\"precision\", precision)\n",
    "    mlflow.log_metric(\"recall\", recall)\n",
    "    mlflow.log_metric(\"f1\", f1)\n",
    "\n",
    "    # Log parameters\n",
    "    mlflow.log_param(\"n_estimators\", n_estimators)\n",
    "    mlflow.log_param(\"max_depth\", max_depth)\n",
    "    \n",
    "    mlflow.sklearn.log_model(rf, \"model\")\n"
   ]
  }
 ],
 "metadata": {
  "kernelspec": {
   "display_name": "simplon",
   "language": "python",
   "name": "python3"
  },
  "language_info": {
   "codemirror_mode": {
    "name": "ipython",
    "version": 3
   },
   "file_extension": ".py",
   "mimetype": "text/x-python",
   "name": "python",
   "nbconvert_exporter": "python",
   "pygments_lexer": "ipython3",
   "version": "3.8.12"
  },
  "orig_nbformat": 4
 },
 "nbformat": 4,
 "nbformat_minor": 2
}
